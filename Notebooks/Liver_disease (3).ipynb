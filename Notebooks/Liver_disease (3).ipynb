{
  "nbformat": 4,
  "nbformat_minor": 0,
  "metadata": {
    "colab": {
      "provenance": []
    },
    "kernelspec": {
      "name": "python3",
      "display_name": "Python 3"
    },
    "language_info": {
      "name": "python"
    }
  },
  "cells": [
    {
      "cell_type": "code",
      "execution_count": null,
      "metadata": {
        "id": "1sofon1s4w3W"
      },
      "outputs": [],
      "source": [
        "# Import required libraries\n",
        "import pandas as pd\n",
        "import numpy as np\n",
        "from sklearn.model_selection import train_test_split\n",
        "from sklearn.preprocessing import LabelEncoder, StandardScaler\n",
        "from sklearn.ensemble import RandomForestClassifier\n",
        "from sklearn.neighbors import KNeighborsClassifier\n",
        "from sklearn.linear_model import LogisticRegression\n",
        "from sklearn.naive_bayes import GaussianNB\n",
        "from sklearn.svm import SVC\n",
        "from sklearn.metrics import accuracy_score, classification_report\n",
        "import pickle\n",
        "import joblib"
      ]
    },
    {
      "cell_type": "code",
      "source": [
        "# Load the dataset\n",
        "file_path = \"Liver Patient Dataset (LPD)_train.csv\"  # Update with the correct path\n",
        "data = pd.read_csv(file_path, encoding='latin1')"
      ],
      "metadata": {
        "id": "dReu3umk43xE"
      },
      "execution_count": null,
      "outputs": []
    },
    {
      "cell_type": "code",
      "source": [
        "# Clean column names\n",
        "data.columns = data.columns.str.strip().str.replace(r'\\s+', '_').str.replace('[^A-Za-z0-9_]', '')"
      ],
      "metadata": {
        "id": "PmaARUAZ5GaN"
      },
      "execution_count": null,
      "outputs": []
    },
    {
      "cell_type": "code",
      "source": [
        "# Check column names\n",
        "print(\"Column names after cleaning:\", data.columns)"
      ],
      "metadata": {
        "colab": {
          "base_uri": "https://localhost:8080/"
        },
        "id": "v9NuJp7s7h--",
        "outputId": "cb45a25e-fd05-4db3-dc6b-3574e3e0332a"
      },
      "execution_count": null,
      "outputs": [
        {
          "output_type": "stream",
          "name": "stdout",
          "text": [
            "Column names after cleaning: Index(['Age of the patient', 'Gender of the patient', 'Total Bilirubin',\n",
            "       'Direct Bilirubin', 'Alkphos Alkaline Phosphotase',\n",
            "       'Sgpt Alamine Aminotransferase', 'Sgot Aspartate Aminotransferase',\n",
            "       'Total Protiens', 'ALB Albumin', 'A/G Ratio Albumin and Globulin Ratio',\n",
            "       'Result'],\n",
            "      dtype='object')\n"
          ]
        }
      ]
    },
    {
      "cell_type": "code",
      "source": [
        "# Rename column if necessary\n",
        "if 'Gender' in data.columns:  # Adjust based on actual column name\n",
        "    data.rename(columns={\"Gender\": \"Gender_of_the_patient\"}, inplace=True)"
      ],
      "metadata": {
        "id": "vzF2Ac-UG5am"
      },
      "execution_count": null,
      "outputs": []
    },
    {
      "cell_type": "code",
      "source": [
        "# Handle missing values\n",
        "for col in data.select_dtypes(include=['float64']).columns:\n",
        "    data[col].fillna(data[col].median(), inplace=True)\n",
        "\n",
        "for col in data.select_dtypes(include=['object']).columns:\n",
        "    data[col].fillna(data[col].mode()[0], inplace=True)"
      ],
      "metadata": {
        "colab": {
          "base_uri": "https://localhost:8080/"
        },
        "collapsed": true,
        "id": "QFOpM2KW5NUt",
        "outputId": "1bff6bb1-be95-421e-ffcb-6686d3516aee"
      },
      "execution_count": null,
      "outputs": [
        {
          "output_type": "stream",
          "name": "stderr",
          "text": [
            "<ipython-input-75-804e1ff33065>:3: FutureWarning: A value is trying to be set on a copy of a DataFrame or Series through chained assignment using an inplace method.\n",
            "The behavior will change in pandas 3.0. This inplace method will never work because the intermediate object on which we are setting values always behaves as a copy.\n",
            "\n",
            "For example, when doing 'df[col].method(value, inplace=True)', try using 'df.method({col: value}, inplace=True)' or df[col] = df[col].method(value) instead, to perform the operation inplace on the original object.\n",
            "\n",
            "\n",
            "  data[col].fillna(data[col].median(), inplace=True)\n",
            "<ipython-input-75-804e1ff33065>:6: FutureWarning: A value is trying to be set on a copy of a DataFrame or Series through chained assignment using an inplace method.\n",
            "The behavior will change in pandas 3.0. This inplace method will never work because the intermediate object on which we are setting values always behaves as a copy.\n",
            "\n",
            "For example, when doing 'df[col].method(value, inplace=True)', try using 'df.method({col: value}, inplace=True)' or df[col] = df[col].method(value) instead, to perform the operation inplace on the original object.\n",
            "\n",
            "\n",
            "  data[col].fillna(data[col].mode()[0], inplace=True)\n"
          ]
        }
      ]
    },
    {
      "cell_type": "code",
      "source": [
        "# Encode all categorical variables (object type)\n",
        "label_encoder = LabelEncoder()\n"
      ],
      "metadata": {
        "collapsed": true,
        "id": "FE6J0tU45ReU"
      },
      "execution_count": null,
      "outputs": []
    },
    {
      "cell_type": "code",
      "source": [
        "# Encode the 'Gender_of_the_patient' or any other categorical columns\n",
        "for col in data.select_dtypes(include=['object']).columns:\n",
        "    data[col] = label_encoder.fit_transform(data[col])"
      ],
      "metadata": {
        "id": "-PSlQ4KhJPPU"
      },
      "execution_count": null,
      "outputs": []
    },
    {
      "cell_type": "code",
      "source": [
        "# Map target values to ensure 0 = Not a Liver Patient, 1 = Liver Patient\n",
        "data['Result'] = data['Result'].map({2: 0, 1: 1})  # Correct mapping: 1 for Liver Patient, 0 for Not a Liver Patient"
      ],
      "metadata": {
        "id": "WaI05sN19pMw"
      },
      "execution_count": null,
      "outputs": []
    },
    {
      "cell_type": "code",
      "source": [
        "# Define features and target\n",
        "X = data.drop('Result', axis=1)\n",
        "y = data['Result']"
      ],
      "metadata": {
        "id": "hQGMI5Pk5Y5a"
      },
      "execution_count": null,
      "outputs": []
    },
    {
      "cell_type": "code",
      "source": [
        "# Split data into training and testing sets\n",
        "X_train, X_test, y_train, y_test = train_test_split(X, y, test_size=0.2, random_state=42)"
      ],
      "metadata": {
        "id": "CsUzarsl6a0t"
      },
      "execution_count": null,
      "outputs": []
    },
    {
      "cell_type": "code",
      "source": [
        "# Identify numeric columns (exclude any categorical columns)\n",
        "numeric_columns = X.select_dtypes(include=[np.number]).columns"
      ],
      "metadata": {
        "collapsed": true,
        "id": "V60BJ_Jz6eQv"
      },
      "execution_count": null,
      "outputs": []
    },
    {
      "cell_type": "code",
      "source": [
        "\n",
        "# Scale only numeric columns\n",
        "scaler = StandardScaler()"
      ],
      "metadata": {
        "id": "yPGOFcDMJgc1"
      },
      "execution_count": null,
      "outputs": []
    },
    {
      "cell_type": "code",
      "source": [
        "# Apply scaling only to numeric columns\n",
        "X_train[numeric_columns] = scaler.fit_transform(X_train[numeric_columns])\n",
        "X_test[numeric_columns] = scaler.transform(X_test[numeric_columns])"
      ],
      "metadata": {
        "id": "S2VVln-sJjvP"
      },
      "execution_count": null,
      "outputs": []
    },
    {
      "cell_type": "code",
      "source": [
        "# Initialize models\n",
        "models = {\n",
        "    \"Random Forest\": RandomForestClassifier(random_state=42),\n",
        "    # \"KNN\": KNeighborsClassifier(),\n",
        "    # \"Logistic Regression\": LogisticRegression(random_state=42, max_iter=500),\n",
        "    # \"Naive Bayes\": GaussianNB(),\n",
        "    # \"SVM\": SVC(probability=True, random_state=42),\n",
        "}"
      ],
      "metadata": {
        "id": "1pUhmaFA66EM"
      },
      "execution_count": null,
      "outputs": []
    },
    {
      "cell_type": "code",
      "source": [
        "# Train and evaluate models\n",
        "for name, model in models.items():\n",
        "    print(f\"\\nTraining {name}...\")\n",
        "    model.fit(X_train, y_train)\n",
        "    y_pred = model.predict(X_test)\n",
        "\n",
        "    # Print accuracy and classification report\n",
        "    accuracy = accuracy_score(y_test, y_pred)\n",
        "    print(f\"{name} Accuracy: {accuracy:.2f}\")\n",
        "    print(f\"Classification Report for {name}:\\n\")\n",
        "    print(classification_report(y_test, y_pred))\n",
        "\n",
        "    # Save only the Random Forest model\n",
        "    if name == \"Random Forest\":\n",
        "        with open(\"Random_Forest.pkl\", 'wb') as f:\n",
        "            pickle.dump(model, f)\n",
        "        joblib.dump(model, \"Random_Forest.sav\")"
      ],
      "metadata": {
        "colab": {
          "base_uri": "https://localhost:8080/"
        },
        "id": "lI_1z9CP6-8l",
        "outputId": "2fd0d374-1e9e-4b40-93a8-fed66169132d"
      },
      "execution_count": null,
      "outputs": [
        {
          "output_type": "stream",
          "name": "stdout",
          "text": [
            "\n",
            "Training Random Forest...\n",
            "Random Forest Accuracy: 1.00\n",
            "Classification Report for Random Forest:\n",
            "\n",
            "              precision    recall  f1-score   support\n",
            "\n",
            "           0       1.00      0.99      1.00      1710\n",
            "           1       1.00      1.00      1.00      4429\n",
            "\n",
            "    accuracy                           1.00      6139\n",
            "   macro avg       1.00      1.00      1.00      6139\n",
            "weighted avg       1.00      1.00      1.00      6139\n",
            "\n"
          ]
        }
      ]
    },
    {
      "cell_type": "code",
      "source": [
        "# Function for custom input prediction using Random Forest\n",
        "def predict_custom_input(input_data):\n",
        "    input_data_scaled = scaler.transform([input_data])\n",
        "    prediction = models[\"Random Forest\"].predict(input_data_scaled)[0]\n",
        "    return \"Liver Patient\" if prediction == 1 else \"Not a Liver Patient\""
      ],
      "metadata": {
        "id": "QDQfT7CD7JvZ"
      },
      "execution_count": null,
      "outputs": []
    },
    {
      "cell_type": "code",
      "source": [
        "# Test custom input\n",
        "custom_input = [70,0,0.7,0.2,237,18,28,5.8,2.5,0.75]  # Example input\n",
        "result = predict_custom_input(custom_input)\n",
        "print(\"\\nCustom Input Prediction Result:\")\n",
        "print(result)"
      ],
      "metadata": {
        "colab": {
          "base_uri": "https://localhost:8080/"
        },
        "collapsed": true,
        "id": "2dgdF5L5B2OQ",
        "outputId": "55a6c721-89c1-4b8b-98f9-7b01934a6553"
      },
      "execution_count": null,
      "outputs": [
        {
          "output_type": "stream",
          "name": "stdout",
          "text": [
            "\n",
            "Custom Input Prediction Result:\n",
            "Not a Liver Patient\n"
          ]
        },
        {
          "output_type": "stream",
          "name": "stderr",
          "text": [
            "/usr/local/lib/python3.10/dist-packages/sklearn/base.py:493: UserWarning: X does not have valid feature names, but StandardScaler was fitted with feature names\n",
            "  warnings.warn(\n",
            "/usr/local/lib/python3.10/dist-packages/sklearn/base.py:493: UserWarning: X does not have valid feature names, but RandomForestClassifier was fitted with feature names\n",
            "  warnings.warn(\n"
          ]
        }
      ]
    },
    {
      "cell_type": "code",
      "source": [
        "import pickle\n",
        "import numpy as np"
      ],
      "metadata": {
        "id": "qKqyVTnFCZBy"
      },
      "execution_count": null,
      "outputs": []
    },
    {
      "cell_type": "code",
      "source": [
        "# Load the saved Random Forest model\n",
        "with open('Random_Forest.pkl', 'rb') as file:\n",
        "    model = pickle.load(file)"
      ],
      "metadata": {
        "id": "T97IPLuaSnN0"
      },
      "execution_count": null,
      "outputs": []
    },
    {
      "cell_type": "code",
      "source": [
        "# Define a function to predict liver disease using custom input values\n",
        "def predict_liver_disease(custom_input):\n",
        "    \"\"\"\n",
        "    Predict liver disease based on custom input values.\n",
        "\n",
        "    Parameters:\n",
        "        custom_input (list): A list of values corresponding to the model features.\n",
        "\n",
        "    Returns:\n",
        "        str: Prediction result (\"Liver Patient\" or \"Not a Liver Patient\").\n",
        "    \"\"\"\n",
        "    # Ensure custom input is a 2D array for the model\n",
        "    custom_input_array = np.array(custom_input).reshape(1, -1)\n",
        "\n",
        "    # Make prediction\n",
        "    prediction = model.predict(custom_input_array)\n",
        "\n",
        "    # Map prediction to a human-readable format\n",
        "    if prediction[0] == 1:\n",
        "        return \"Liver Patient\"\n",
        "    else:\n",
        "        return \"Not a Liver Patient\"\n",
        "\n",
        "# Example custom input\n",
        "# Replace the following values with your actual test case\n",
        "# [Age, Gender (0: Female, 1: Male), Total Bilirubin, Direct Bilirubin, Alkaline Phosphotase,\n",
        "# Alamine Aminotransferase, Aspartate Aminotransferase, Total Proteins, Albumin, Albumin/Globulin Ratio]\n",
        "custom_input = [60,1,0.6,0.1,186,0,20,6.2,3.3,1.1]\n",
        "# Apply scaling to custom input\n",
        "custom_input_scaled = scaler.transform([custom_input])\n",
        "# prediction = model.predict(custom_input_scaled)\n",
        "\n",
        "# Get the prediction result\n",
        "result = predict_liver_disease(custom_input_scaled)\n",
        "\n",
        "# Print the result\n",
        "print(\"Prediction Result:\", result)"
      ],
      "metadata": {
        "colab": {
          "base_uri": "https://localhost:8080/"
        },
        "id": "xIbZn2KtStVI",
        "outputId": "3381c784-1536-4e36-ccc0-d9ad6b8efc39"
      },
      "execution_count": null,
      "outputs": [
        {
          "output_type": "stream",
          "name": "stdout",
          "text": [
            "Prediction Result: Not a Liver Patient\n"
          ]
        },
        {
          "output_type": "stream",
          "name": "stderr",
          "text": [
            "/usr/local/lib/python3.10/dist-packages/sklearn/base.py:493: UserWarning: X does not have valid feature names, but StandardScaler was fitted with feature names\n",
            "  warnings.warn(\n",
            "/usr/local/lib/python3.10/dist-packages/sklearn/base.py:493: UserWarning: X does not have valid feature names, but RandomForestClassifier was fitted with feature names\n",
            "  warnings.warn(\n"
          ]
        }
      ]
    },
    {
      "cell_type": "code",
      "source": [
        "from sklearn.preprocessing import StandardScaler\n",
        "import pickle\n",
        "\n",
        "# Save scaler\n",
        "with open('scaler.pkl', 'wb') as scaler_file:\n",
        "    pickle.dump(scaler, scaler_file)\n",
        "\n",
        "# Load scaler\n",
        "with open('scaler.pkl', 'rb') as scaler_file:\n",
        "    scaler = pickle.load(scaler_file)\n",
        "\n",
        "# Apply scaling to custom input\n",
        "custom_input_scaled = scaler.transform([custom_input])\n",
        "prediction = model.predict(custom_input_scaled)\n"
      ],
      "metadata": {
        "colab": {
          "base_uri": "https://localhost:8080/"
        },
        "id": "nKKlwicJS5vx",
        "outputId": "d9ce64cd-f2bc-4c3f-ff1c-3c1219145a6f"
      },
      "execution_count": null,
      "outputs": [
        {
          "output_type": "stream",
          "name": "stderr",
          "text": [
            "/usr/local/lib/python3.10/dist-packages/sklearn/base.py:493: UserWarning: X does not have valid feature names, but StandardScaler was fitted with feature names\n",
            "  warnings.warn(\n",
            "/usr/local/lib/python3.10/dist-packages/sklearn/base.py:493: UserWarning: X does not have valid feature names, but RandomForestClassifier was fitted with feature names\n",
            "  warnings.warn(\n"
          ]
        }
      ]
    },
    {
      "cell_type": "code",
      "source": [
        "# Apply scaling to custom input\n",
        "custom_input_scaled = scaler.transform([custom_input])\n",
        "prediction = model.predict(custom_input_scaled)"
      ],
      "metadata": {
        "id": "ypIrL-O_UgN8"
      },
      "execution_count": null,
      "outputs": []
    }
  ]
}